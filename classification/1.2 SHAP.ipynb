{
 "cells": [
  {
   "cell_type": "code",
   "execution_count": null,
   "id": "e3cfe8c1",
   "metadata": {},
   "outputs": [],
   "source": [
    "import shap\n",
    "\n",
    "with open('../results/xgboost_model_german.pkl', 'rb') as file:\n",
    "    model = pickle.load(file)\n",
    "\n",
    "explainer = shap.Explainer(model)\n"
   ]
  }
 ],
 "metadata": {
  "kernelspec": {
   "display_name": "Python 3 (ipykernel)",
   "language": "python",
   "name": "python3"
  },
  "language_info": {
   "codemirror_mode": {
    "name": "ipython",
    "version": 3
   },
   "file_extension": ".py",
   "mimetype": "text/x-python",
   "name": "python",
   "nbconvert_exporter": "python",
   "pygments_lexer": "ipython3",
   "version": "3.10.9"
  }
 },
 "nbformat": 4,
 "nbformat_minor": 5
}
