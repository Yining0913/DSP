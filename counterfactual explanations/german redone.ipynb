{
 "cells": [
  {
   "cell_type": "code",
   "execution_count": 1,
   "id": "91d6c6a0",
   "metadata": {},
   "outputs": [],
   "source": [
    "import pandas as pd\n",
    "import numpy as np\n",
    "from sklearn.compose import ColumnTransformer\n",
    "from sklearn.impute import SimpleImputer\n",
    "from sklearn.preprocessing import StandardScaler, OneHotEncoder\n",
    "from sklearn.model_selection import train_test_split\n",
    "from sklearn.pipeline import Pipeline\n",
    "\n",
    "import tensorflow as tf\n",
    "import tensorflow.keras as keras\n",
    "from alibi.explainers import Counterfactual\n",
    "from alibi.explainers import CounterfactualRLTabular, CounterfactualRL\n",
    "from alibi.explainers import CounterfactualProto\n",
    "#from alibi.datasets import fetch_adult\n",
    "from alibi.models.tensorflow import HeAE\n",
    "from alibi.models.tensorflow import Actor, Critic\n",
    "#from alibi.models.tensorflow import ADULTEncoder, ADULTDecoder\n",
    "from alibi.explainers.cfrl_base import Callback\n",
    "from alibi.explainers.backends.cfrl_tabular import get_he_preprocessor, get_statistics, \\\n",
    "    get_conditional_vector, apply_category_mapping\n"
   ]
  },
  {
   "cell_type": "code",
   "execution_count": 2,
   "id": "fdc2c1db",
   "metadata": {},
   "outputs": [],
   "source": [
    "credit_data = pd.read_csv(\"../datasets/german_redone.csv\")"
   ]
  },
  {
   "cell_type": "code",
   "execution_count": null,
   "id": "814a6d8e",
   "metadata": {},
   "outputs": [],
   "source": [
    "# define the categorical, immutable and non-decreasing features in your dataset\n",
    "immutable_features = 'Personal_status'，'Number_of_people_being_lible','Foreign_worker'，'Purpose']\n",
    "non_decreasing_features = ['age'，'Job']# THESE ARE REOUIRED IF YOU ARE NOT USING AN ARTHUR MODEL\n",
    "categorical_features= ['Other_debtors','Number_of_people_being_lible','Savings_account','Present_residence_since','Credit history', 'property','Present employment since','Foreign worker'，'Purpose'，'other installment plans''checking account',Personal status''Insatllment rate', Job'，Housing!Number of existing credits'，'Telephone']"
   ]
  }
 ],
 "metadata": {
  "kernelspec": {
   "display_name": "Python 3 (ipykernel)",
   "language": "python",
   "name": "python3"
  },
  "language_info": {
   "codemirror_mode": {
    "name": "ipython",
    "version": 3
   },
   "file_extension": ".py",
   "mimetype": "text/x-python",
   "name": "python",
   "nbconvert_exporter": "python",
   "pygments_lexer": "ipython3",
   "version": "3.10.9"
  }
 },
 "nbformat": 4,
 "nbformat_minor": 5
}
